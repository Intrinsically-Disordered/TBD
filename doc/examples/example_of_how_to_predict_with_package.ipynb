{
 "cells": [
  {
   "cell_type": "markdown",
   "metadata": {},
   "source": [
    "# Example script to predict with TBD package"
   ]
  },
  {
   "cell_type": "markdown",
   "metadata": {},
   "source": [
    "### Import packages"
   ]
  },
  {
   "cell_type": "code",
   "execution_count": 1,
   "metadata": {},
   "outputs": [],
   "source": [
    "import pandas as pd\n",
    "import tbd.predict"
   ]
  },
  {
   "cell_type": "markdown",
   "metadata": {},
   "source": [
    "### Inputs"
   ]
  },
  {
   "cell_type": "markdown",
   "metadata": {},
   "source": [
    "The input sequences can be put in a list or a dataframe. Each item in the list or each row in the dataframe represents one protein sequence, and each sequence should contain only acceptable amino acid one-letter codes and be greater than 40 characters."
   ]
  },
  {
   "cell_type": "code",
   "execution_count": 2,
   "metadata": {},
   "outputs": [],
   "source": [
    "input_data = [\"LLGDFFRKSKEKIGKEFKRIVQRIKDFLRNLVPRTES\",\n",
    "             \"MDAQTRRRERRAEKQAQWKAANPLLVGVSAKPVNRPILSLNRKPKSRVESALNPIDLTVLAEYHKQIESNLQRIERKNQTWYSKPGER\",\n",
    "             \"MDAQTRRRERRAEKQAQWKAAN\"]"
   ]
  },
  {
   "cell_type": "markdown",
   "metadata": {},
   "source": [
    "or"
   ]
  },
  {
   "cell_type": "code",
   "execution_count": 3,
   "metadata": {},
   "outputs": [
    {
     "data": {
      "text/html": [
       "<div>\n",
       "<style scoped>\n",
       "    .dataframe tbody tr th:only-of-type {\n",
       "        vertical-align: middle;\n",
       "    }\n",
       "\n",
       "    .dataframe tbody tr th {\n",
       "        vertical-align: top;\n",
       "    }\n",
       "\n",
       "    .dataframe thead th {\n",
       "        text-align: right;\n",
       "    }\n",
       "</style>\n",
       "<table border=\"1\" class=\"dataframe\">\n",
       "  <thead>\n",
       "    <tr style=\"text-align: right;\">\n",
       "      <th></th>\n",
       "      <th>sequence</th>\n",
       "    </tr>\n",
       "  </thead>\n",
       "  <tbody>\n",
       "    <tr>\n",
       "      <th>0</th>\n",
       "      <td>LLGDFFRKSKEKIGKEFKRIVQRIKDFLRNLVPRTES</td>\n",
       "    </tr>\n",
       "    <tr>\n",
       "      <th>1</th>\n",
       "      <td>MDAQTRRRERRAEKQAQWKAANPLLVGVSAKPVNRPILSLNRKPKS...</td>\n",
       "    </tr>\n",
       "    <tr>\n",
       "      <th>2</th>\n",
       "      <td>MDAQTRRRERRAEKQAQWKAAN</td>\n",
       "    </tr>\n",
       "  </tbody>\n",
       "</table>\n",
       "</div>"
      ],
      "text/plain": [
       "                                            sequence\n",
       "0              LLGDFFRKSKEKIGKEFKRIVQRIKDFLRNLVPRTES\n",
       "1  MDAQTRRRERRAEKQAQWKAANPLLVGVSAKPVNRPILSLNRKPKS...\n",
       "2                             MDAQTRRRERRAEKQAQWKAAN"
      ]
     },
     "execution_count": 3,
     "metadata": {},
     "output_type": "execute_result"
    }
   ],
   "source": [
    "import pandas as pd\n",
    "input_data = pd.DataFrame(\n",
    "    {'sequence': \n",
    "     [\"LLGDFFRKSKEKIGKEFKRIVQRIKDFLRNLVPRTES\",\n",
    "      \"MDAQTRRRERRAEKQAQWKAANPLLVGVSAKPVNRPILSLNRKPKSRVESALNPIDLTVLAEYHKQIESNLQRIERKNQTWYSKPGER\",\n",
    "      \"MDAQTRRRERRAEKQAQWKAAN\"]}\n",
    ")\n",
    "input_data"
   ]
  },
  {
   "cell_type": "markdown",
   "metadata": {},
   "source": [
    "### Use `check_data` to check whether the input protein sequences are valid. If the sequences are good to go, this should raise no errors."
   ]
  },
  {
   "cell_type": "code",
   "execution_count": 4,
   "metadata": {},
   "outputs": [
    {
     "name": "stdout",
     "output_type": "stream",
     "text": [
      "The sequence LLGDFFRKSKEKIGKEFKRIVQRIKDFLRNLVPRTES is less than the specified length limit 40\n",
      "The sequence MDAQTRRRERRAEKQAQWKAAN is less than the specified length limit 40\n"
     ]
    }
   ],
   "source": [
    "tbd.utils.check_data(input_data)"
   ]
  },
  {
   "cell_type": "markdown",
   "metadata": {},
   "source": [
    "### Use `predict_protein` to predict whether the inputted sequences are intrisically disordered or ordered. A pretrained model will be used unless a new trained model is specified."
   ]
  },
  {
   "cell_type": "code",
   "execution_count": 5,
   "metadata": {},
   "outputs": [],
   "source": [
    "df_pred = tbd.predict.predict_protein(input_data)"
   ]
  },
  {
   "cell_type": "markdown",
   "metadata": {},
   "source": [
    "### The results will show the probability of being classified as ordered or disordered for each sub-sequence. Its original sequence will be displayed as well."
   ]
  },
  {
   "cell_type": "code",
   "execution_count": 6,
   "metadata": {},
   "outputs": [
    {
     "data": {
      "text/html": [
       "<div>\n",
       "<style scoped>\n",
       "    .dataframe tbody tr th:only-of-type {\n",
       "        vertical-align: middle;\n",
       "    }\n",
       "\n",
       "    .dataframe tbody tr th {\n",
       "        vertical-align: top;\n",
       "    }\n",
       "\n",
       "    .dataframe thead th {\n",
       "        text-align: right;\n",
       "    }\n",
       "</style>\n",
       "<table border=\"1\" class=\"dataframe\">\n",
       "  <thead>\n",
       "    <tr style=\"text-align: right;\">\n",
       "      <th></th>\n",
       "      <th>parent_sequence</th>\n",
       "      <th>sequence</th>\n",
       "      <th>prob_disordered</th>\n",
       "      <th>prob_ordered</th>\n",
       "    </tr>\n",
       "  </thead>\n",
       "  <tbody>\n",
       "    <tr>\n",
       "      <th>0</th>\n",
       "      <td>MDAQTRRRERRAEKQAQWKAANPLLVGVSAKPVNRPILSLNRKPKS...</td>\n",
       "      <td>MDAQTRRRERRAEKQAQWKAANPLLVGVSAKPVNRPILSL</td>\n",
       "      <td>0.606321</td>\n",
       "      <td>0.393679</td>\n",
       "    </tr>\n",
       "    <tr>\n",
       "      <th>1</th>\n",
       "      <td>MDAQTRRRERRAEKQAQWKAANPLLVGVSAKPVNRPILSLNRKPKS...</td>\n",
       "      <td>RAEKQAQWKAANPLLVGVSAKPVNRPILSLNRKPKSRVES</td>\n",
       "      <td>0.693179</td>\n",
       "      <td>0.306821</td>\n",
       "    </tr>\n",
       "    <tr>\n",
       "      <th>2</th>\n",
       "      <td>MDAQTRRRERRAEKQAQWKAANPLLVGVSAKPVNRPILSLNRKPKS...</td>\n",
       "      <td>ANPLLVGVSAKPVNRPILSLNRKPKSRVESALNPIDLTVL</td>\n",
       "      <td>0.301349</td>\n",
       "      <td>0.698651</td>\n",
       "    </tr>\n",
       "    <tr>\n",
       "      <th>3</th>\n",
       "      <td>MDAQTRRRERRAEKQAQWKAANPLLVGVSAKPVNRPILSLNRKPKS...</td>\n",
       "      <td>KPVNRPILSLNRKPKSRVESALNPIDLTVLAEYHKQIESN</td>\n",
       "      <td>0.571889</td>\n",
       "      <td>0.428111</td>\n",
       "    </tr>\n",
       "    <tr>\n",
       "      <th>4</th>\n",
       "      <td>MDAQTRRRERRAEKQAQWKAANPLLVGVSAKPVNRPILSLNRKPKS...</td>\n",
       "      <td>NRKPKSRVESALNPIDLTVLAEYHKQIESNLQRIERKNQT</td>\n",
       "      <td>0.378113</td>\n",
       "      <td>0.621887</td>\n",
       "    </tr>\n",
       "  </tbody>\n",
       "</table>\n",
       "</div>"
      ],
      "text/plain": [
       "                                     parent_sequence  \\\n",
       "0  MDAQTRRRERRAEKQAQWKAANPLLVGVSAKPVNRPILSLNRKPKS...   \n",
       "1  MDAQTRRRERRAEKQAQWKAANPLLVGVSAKPVNRPILSLNRKPKS...   \n",
       "2  MDAQTRRRERRAEKQAQWKAANPLLVGVSAKPVNRPILSLNRKPKS...   \n",
       "3  MDAQTRRRERRAEKQAQWKAANPLLVGVSAKPVNRPILSLNRKPKS...   \n",
       "4  MDAQTRRRERRAEKQAQWKAANPLLVGVSAKPVNRPILSLNRKPKS...   \n",
       "\n",
       "                                   sequence  prob_disordered  prob_ordered  \n",
       "0  MDAQTRRRERRAEKQAQWKAANPLLVGVSAKPVNRPILSL         0.606321      0.393679  \n",
       "1  RAEKQAQWKAANPLLVGVSAKPVNRPILSLNRKPKSRVES         0.693179      0.306821  \n",
       "2  ANPLLVGVSAKPVNRPILSLNRKPKSRVESALNPIDLTVL         0.301349      0.698651  \n",
       "3  KPVNRPILSLNRKPKSRVESALNPIDLTVLAEYHKQIESN         0.571889      0.428111  \n",
       "4  NRKPKSRVESALNPIDLTVLAEYHKQIESNLQRIERKNQT         0.378113      0.621887  "
      ]
     },
     "execution_count": 6,
     "metadata": {},
     "output_type": "execute_result"
    }
   ],
   "source": [
    "df_pred"
   ]
  },
  {
   "cell_type": "code",
   "execution_count": 1,
   "metadata": {},
   "outputs": [],
   "source": [
    "df_pred.to_csv('saved_predictions.csv',header=True,index=False)"
   ]
  }
 ],
 "metadata": {
  "kernelspec": {
   "display_name": "Python 3",
   "language": "python",
   "name": "python3"
  },
  "language_info": {
   "codemirror_mode": {
    "name": "ipython",
    "version": 3
   },
   "file_extension": ".py",
   "mimetype": "text/x-python",
   "name": "python",
   "nbconvert_exporter": "python",
   "pygments_lexer": "ipython3",
   "version": "3.6.15"
  }
 },
 "nbformat": 4,
 "nbformat_minor": 5
}
