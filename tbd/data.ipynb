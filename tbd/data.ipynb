{
 "cells": [
  {
   "cell_type": "code",
   "execution_count": 2,
   "id": "c2289636",
   "metadata": {},
   "outputs": [],
   "source": [
    "import pandas as pd\n",
    "import numpy as np"
   ]
  },
  {
   "cell_type": "code",
   "execution_count": 3,
   "id": "924eaadc",
   "metadata": {},
   "outputs": [],
   "source": [
    "UNIQUE_LETTERS = ['A', 'C', 'D', 'E', 'F', 'G', 'H', 'I', 'K', 'L', \n",
    "                  'M', 'N', 'P', 'Q', 'R', 'S', 'T', 'V', 'W', 'Y' ]\n",
    "UNIQUE_LETTERS = np.array(UNIQUE_LETTERS)"
   ]
  },
  {
   "cell_type": "code",
   "execution_count": 4,
   "id": "ff1ffe26",
   "metadata": {},
   "outputs": [
    {
     "data": {
      "text/plain": [
       "20"
      ]
     },
     "execution_count": 4,
     "metadata": {},
     "output_type": "execute_result"
    }
   ],
   "source": [
    "len(UNIQUE_LETTERS)"
   ]
  },
  {
   "cell_type": "code",
   "execution_count": 5,
   "id": "98bfe013",
   "metadata": {},
   "outputs": [],
   "source": [
    "def set_length_limit(df, length_limit=40):\n",
    "    \"\"\"Return sequences of length above specified length_limit.\"\"\"\n",
    "    df.loc[:, 'length'] = df.loc[:, 'sequence'].map(lambda x: len(x))\n",
    "    print(f'Before setting length limit of {length_limit}: ')\n",
    "    print(df.describe())\n",
    "    print()\n",
    "    df = df.loc[df.length >= length_limit]\n",
    "    print(f'After setting length limit of {length_limit}: ')\n",
    "    print(df.describe())\n",
    "    return df"
   ]
  },
  {
   "cell_type": "code",
   "execution_count": 6,
   "id": "40c564f7",
   "metadata": {},
   "outputs": [
    {
     "data": {
      "text/plain": [
       "3776"
      ]
     },
     "execution_count": 6,
     "metadata": {},
     "output_type": "execute_result"
    }
   ],
   "source": [
    "# disordered\n",
    "df_disordered = pd.read_csv(\"disordered_sequences.csv\")\n",
    "df_disordered = df_disordered[~df_disordered.sequence.isnull()]\n",
    "df_disordered = df_disordered.drop_duplicates()\n",
    "len(df_disordered)"
   ]
  },
  {
   "cell_type": "code",
   "execution_count": 7,
   "id": "4f4c0a25",
   "metadata": {},
   "outputs": [
    {
     "name": "stdout",
     "output_type": "stream",
     "text": [
      "Before setting length limit of 40: \n",
      "            length\n",
      "count  3776.000000\n",
      "mean     68.569121\n",
      "std     116.190494\n",
      "min       5.000000\n",
      "25%      16.000000\n",
      "50%      30.000000\n",
      "75%      77.000000\n",
      "max    2371.000000\n",
      "\n",
      "After setting length limit of 40: \n",
      "            length\n",
      "count  1534.000000\n",
      "mean    140.189048\n",
      "std     156.487541\n",
      "min      40.000000\n",
      "25%      61.000000\n",
      "50%      93.000000\n",
      "75%     167.000000\n",
      "max    2371.000000\n"
     ]
    }
   ],
   "source": [
    "df_disordered = set_length_limit(df_disordered)"
   ]
  },
  {
   "cell_type": "code",
   "execution_count": 8,
   "id": "2ff6a97f",
   "metadata": {},
   "outputs": [
    {
     "data": {
      "text/plain": [
       "3268"
      ]
     },
     "execution_count": 8,
     "metadata": {},
     "output_type": "execute_result"
    }
   ],
   "source": [
    "# ordered\n",
    "df1 = pd.read_csv(\"rcsb_pdb_sequence_9b20c2e6f4e2322c79be67683f6cf968_2501-3856.csv\")\n",
    "df2 = pd.read_csv(\"rcsb_pdb_sequence_9b20c2e6f4e2322c79be67683f6cf968_0001-2500.csv\")\n",
    "df_ordered = df1.append(df2)\n",
    "df_ordered = df_ordered.loc[:, ['Sequence']]\n",
    "df_ordered = df_ordered.rename(columns={'Sequence': 'sequence'})\n",
    "df_ordered = df_ordered[~df_ordered.sequence.isnull()]\n",
    "df_ordered = df_ordered.drop_duplicates()\n",
    "len(df_ordered)"
   ]
  },
  {
   "cell_type": "code",
   "execution_count": 9,
   "id": "d9cdb8f3",
   "metadata": {},
   "outputs": [
    {
     "name": "stdout",
     "output_type": "stream",
     "text": [
      "Before setting length limit of 40: \n",
      "            length\n",
      "count  3268.000000\n",
      "mean    417.743574\n",
      "std     432.200299\n",
      "min       4.000000\n",
      "25%     187.000000\n",
      "50%     315.000000\n",
      "75%     505.000000\n",
      "max    5037.000000\n",
      "\n",
      "After setting length limit of 40: \n",
      "            length\n",
      "count  3214.000000\n",
      "mean    424.391724\n",
      "std     432.734049\n",
      "min      40.000000\n",
      "25%     192.000000\n",
      "50%     319.000000\n",
      "75%     508.750000\n",
      "max    5037.000000\n"
     ]
    }
   ],
   "source": [
    "df_ordered = set_length_limit(df_ordered)"
   ]
  },
  {
   "cell_type": "code",
   "execution_count": 10,
   "id": "75a9642e",
   "metadata": {},
   "outputs": [],
   "source": [
    "def generate_sub_sequence(df, size=40, strides=10):\n",
    "    \"\"\"Generate sub-sequence of specified size. \n",
    "       Moving at specified strides\"\"\"\n",
    "    lst = []\n",
    "    for sequence in df.sequence.values:\n",
    "        for ix in range((len(sequence)-size)//strides+1):\n",
    "            sub = sequence[strides*ix: strides*ix+size]\n",
    "            lst.append(sub)\n",
    "    return lst"
   ]
  },
  {
   "cell_type": "code",
   "execution_count": 11,
   "id": "5d64c605",
   "metadata": {},
   "outputs": [],
   "source": [
    "def label_binarizer(df, size=40, strides=10):\n",
    "    lst = []\n",
    "    for sequence in df.sequence.values:\n",
    "        for ix in range((len(sequence)-size)//strides+1):\n",
    "            lst.append([list(sequence[strides*ix: strides*ix+size])])\n",
    "    df_sub = pd.DataFrame(lst, columns=['sequence'])\n",
    "    mlb = MultiLabelBinarizer()\n",
    "    df_encoded = pd.DataFrame(mlb.fit_transform(df_sub['sequence']),\n",
    "                              columns=mlb.classes_, index=df_sub.index)\n",
    "    return df_encoded"
   ]
  },
  {
   "cell_type": "code",
   "execution_count": 12,
   "id": "4695c2c5",
   "metadata": {},
   "outputs": [],
   "source": [
    "def one_hot_encoding(df, protein_type, size=40, strides=10):\n",
    "    \"\"\"One-hot encoding the sequences.\n",
    "       protein_type should be one of ['ordered', 'disordered']\"\"\"\n",
    "    lst_sequences = generate_sub_sequence(df, size=size, strides=strides)\n",
    "    num_obs = len(lst_sequences)\n",
    "    # placeholder\n",
    "    array_encoded = np.empty((num_obs, size, len(UNIQUE_LETTERS)))\n",
    "    for ix, sequence in enumerate(lst_sequences):\n",
    "        for iy, letter in enumerate(sequence):\n",
    "            array_encoded[ix, iy,] = (UNIQUE_LETTERS==letter).astype(int)\n",
    "    if protein_type == 'ordered':\n",
    "        labels = np.array([1]*num_obs)\n",
    "    elif protein_type == 'disordered':\n",
    "        labels = np.array([0]*num_obs)\n",
    "    else:\n",
    "        raise Exception(f\"Invalid type: {protein_type}\")\n",
    "    return array_encoded, labels"
   ]
  },
  {
   "cell_type": "code",
   "execution_count": 13,
   "id": "31c0db98",
   "metadata": {},
   "outputs": [],
   "source": [
    "array_ordered, labels_ordered = one_hot_encoding(df_ordered, 'ordered')"
   ]
  },
  {
   "cell_type": "code",
   "execution_count": 14,
   "id": "424b57e5",
   "metadata": {
    "scrolled": true
   },
   "outputs": [
    {
     "data": {
      "text/plain": [
       "(125289, 40, 20)"
      ]
     },
     "execution_count": 14,
     "metadata": {},
     "output_type": "execute_result"
    }
   ],
   "source": [
    "array_ordered.shape"
   ]
  },
  {
   "cell_type": "code",
   "execution_count": 15,
   "id": "926f44bc",
   "metadata": {},
   "outputs": [],
   "source": [
    "array_disordered, labels_disordered = one_hot_encoding(df_disordered, 'disordered')"
   ]
  },
  {
   "cell_type": "code",
   "execution_count": 16,
   "id": "f516b44b",
   "metadata": {},
   "outputs": [
    {
     "data": {
      "text/plain": [
       "(16239, 40, 20)"
      ]
     },
     "execution_count": 16,
     "metadata": {},
     "output_type": "execute_result"
    }
   ],
   "source": [
    "array_disordered.shape"
   ]
  },
  {
   "cell_type": "code",
   "execution_count": 17,
   "id": "4ebcea77",
   "metadata": {},
   "outputs": [],
   "source": [
    "import pickle"
   ]
  },
  {
   "cell_type": "code",
   "execution_count": 18,
   "id": "477cea2e",
   "metadata": {},
   "outputs": [],
   "source": [
    "with open(\"array_ordered.pkl\", \"wb\") as f_write:\n",
    "    pickle.dump(array_ordered, f_write)"
   ]
  },
  {
   "cell_type": "code",
   "execution_count": 20,
   "id": "6fc051db",
   "metadata": {},
   "outputs": [],
   "source": [
    "with open(\"labels_ordered.pkl\", \"wb\") as f_write:\n",
    "    pickle.dump(labels_ordered, f_write)"
   ]
  },
  {
   "cell_type": "code",
   "execution_count": 19,
   "id": "20205243",
   "metadata": {},
   "outputs": [],
   "source": [
    "with open(\"array_disordered.pkl\", \"wb\") as f_write:\n",
    "    pickle.dump(array_disordered, f_write)"
   ]
  },
  {
   "cell_type": "code",
   "execution_count": 21,
   "id": "ed01a773",
   "metadata": {},
   "outputs": [],
   "source": [
    "with open(\"labels_disordered.pkl\", \"wb\") as f_write:\n",
    "    pickle.dump(labels_disordered, f_write)"
   ]
  },
  {
   "cell_type": "code",
   "execution_count": null,
   "id": "bdf1f37c",
   "metadata": {},
   "outputs": [],
   "source": []
  }
 ],
 "metadata": {
  "kernelspec": {
   "display_name": "Python 3 (ipykernel)",
   "language": "python",
   "name": "python3"
  },
  "language_info": {
   "codemirror_mode": {
    "name": "ipython",
    "version": 3
   },
   "file_extension": ".py",
   "mimetype": "text/x-python",
   "name": "python",
   "nbconvert_exporter": "python",
   "pygments_lexer": "ipython3",
   "version": "3.9.5"
  }
 },
 "nbformat": 4,
 "nbformat_minor": 5
}
